{
 "cells": [
  {
   "cell_type": "code",
   "execution_count": 8,
   "metadata": {},
   "outputs": [],
   "source": [
    "import zam_vendor_plant as zam1\n",
    "\n",
    "pd.set_option('display.max_rows', 500)\n",
    "pd.set_option('display.max_columns', 500)\n",
    "pd.set_option('display.width', 1000)\n",
    "pd.options.mode.chained_assignment = None"
   ]
  },
  {
   "cell_type": "code",
   "execution_count": 9,
   "metadata": {},
   "outputs": [
    {
     "name": "stdout",
     "output_type": "stream",
     "text": [
      "Ошибка\n"
     ]
    },
    {
     "ename": "NameError",
     "evalue": "name 'sys' is not defined",
     "output_type": "error",
     "traceback": [
      "\u001b[1;31m---------------------------------------------------------------------------\u001b[0m",
      "\u001b[1;31mNameError\u001b[0m                                 Traceback (most recent call last)",
      "\u001b[1;32mC:\\OneDrive\\Machine learning\\Notebooks\\SAP GUI\\zam_vendor_plant.py\u001b[0m in \u001b[0;36mMain\u001b[1;34m()\u001b[0m\n\u001b[0;32m    304\u001b[0m     \u001b[1;32mreturn\u001b[0m \u001b[0mdataframe\u001b[0m\u001b[1;33m\u001b[0m\u001b[0m\n\u001b[1;32m--> 305\u001b[1;33m \u001b[1;31m#-Sub Main--------------------------------------------------------------\u001b[0m\u001b[1;33m\u001b[0m\u001b[1;33m\u001b[0m\u001b[0m\n\u001b[0m\u001b[0;32m    306\u001b[0m \u001b[1;33m\u001b[0m\u001b[0m\n",
      "\u001b[1;31mNameError\u001b[0m: name 'win32com' is not defined",
      "\nDuring handling of the above exception, another exception occurred:\n",
      "\u001b[1;31mNameError\u001b[0m                                 Traceback (most recent call last)",
      "\u001b[1;32m<ipython-input-9-7d5fad757c01>\u001b[0m in \u001b[0;36m<module>\u001b[1;34m()\u001b[0m\n\u001b[0;32m     20\u001b[0m \u001b[1;31m#\"2156\",\"2157\",\"2158\",\"2159\",\"2160\",\"2161\",\"2162\",\"2163\",\"2164\",\"2165\",\"2166\"]\u001b[0m\u001b[1;33m\u001b[0m\u001b[1;33m\u001b[0m\u001b[0m\n\u001b[0;32m     21\u001b[0m \u001b[1;33m\u001b[0m\u001b[0m\n\u001b[1;32m---> 22\u001b[1;33m \u001b[0mzam\u001b[0m\u001b[1;33m,\u001b[0m \u001b[0mstock\u001b[0m\u001b[1;33m,\u001b[0m \u001b[0minact_stock\u001b[0m\u001b[1;33m,\u001b[0m \u001b[0maz\u001b[0m\u001b[1;33m,\u001b[0m \u001b[0mazN\u001b[0m\u001b[1;33m,\u001b[0m \u001b[0mfinal_data\u001b[0m \u001b[1;33m=\u001b[0m \u001b[0mzam1\u001b[0m\u001b[1;33m.\u001b[0m\u001b[0mMain\u001b[0m\u001b[1;33m(\u001b[0m\u001b[1;33m)\u001b[0m\u001b[1;33m\u001b[0m\u001b[0m\n\u001b[0m",
      "\u001b[1;32mC:\\OneDrive\\Machine learning\\Notebooks\\SAP GUI\\zam_vendor_plant.py\u001b[0m in \u001b[0;36mMain\u001b[1;34m()\u001b[0m\n\u001b[0;32m    336\u001b[0m         \u001b[0mfinal_data\u001b[0m \u001b[1;33m=\u001b[0m \u001b[0manalize\u001b[0m\u001b[1;33m(\u001b[0m\u001b[0mazN\u001b[0m\u001b[1;33m,\u001b[0m\u001b[0mzam\u001b[0m\u001b[1;33m,\u001b[0m \u001b[0mstock\u001b[0m\u001b[1;33m)\u001b[0m\u001b[1;33m\u001b[0m\u001b[0m\n\u001b[0;32m    337\u001b[0m \u001b[1;33m\u001b[0m\u001b[0m\n\u001b[1;32m--> 338\u001b[1;33m         \u001b[1;32mreturn\u001b[0m \u001b[0mzam\u001b[0m\u001b[1;33m,\u001b[0m \u001b[0mstock\u001b[0m\u001b[1;33m,\u001b[0m \u001b[0minact_stock\u001b[0m\u001b[1;33m,\u001b[0m \u001b[0maz\u001b[0m\u001b[1;33m,\u001b[0m \u001b[0mazN\u001b[0m\u001b[1;33m,\u001b[0m \u001b[0mfinal_data\u001b[0m\u001b[1;33m\u001b[0m\u001b[0m\n\u001b[0m\u001b[0;32m    339\u001b[0m \u001b[1;33m\u001b[0m\u001b[0m\n\u001b[0;32m    340\u001b[0m     \u001b[1;32mexcept\u001b[0m\u001b[1;33m:\u001b[0m\u001b[1;33m\u001b[0m\u001b[0m\n",
      "\u001b[1;31mNameError\u001b[0m: name 'sys' is not defined"
     ]
    }
   ],
   "source": [
    "company_code     = \"1000\"            #код компании\n",
    "inactive_segment = ['Z1','Z4','Z5']  #неактивные сегменты ЖЦ\n",
    "group_number     = 14                #номер группы замещающих товаров\n",
    "date             = \"25.07.2019\"      #дата для чтения проектов автозаказа\n",
    "vendor           = '100000028'       #код внешнего поставщика\n",
    "variant          = \"/all\"            #вариант запуска zreplen03\n",
    "max_rows         = 30                #максимум строк на экране ALV, выше которого нужно делать page down\n",
    "\n",
    "plants = [\"2010\",\"2013\",\"2014\",\"2015\",\"2016\",\"2018\",\"2020\",\"2021\",\"2022\",\"2023\",\"2025\",\n",
    "\"2027\",\"2028\",\"2029\",\"2030\",\"2031\",\"2032\",\"2033\",\"2034\",\"2035\",\"2036\",\"2037\",\n",
    "\"2038\",\"2039\",\"2040\",\"2041\",\"2043\",\"2044\",\"2046\",\"2049\",\"2050\",\"2051\",\"2052\"]\n",
    "#\"2053\",\"2054\",\"2055\",\"2056\",\"2057\",\"2058\",\"2059\",\"2060\",\"2061\",\"2062\",\"2063\",\n",
    "#\"2064\",\"2065\",\"2066\",\"2068\",\"2069\",\"2070\",\"2071\",\"2075\",\"2076\",\"2077\",\"2078\",\n",
    "#\"2080\",\"2082\",\"2083\",\"2084\",\"2085\",\"2086\",\"2088\",\"2089\",\"2090\",\"2091\",\"2092\",\n",
    "#\"2093\",\"2094\",\"2095\",\"2097\",\"2098\",\"2099\",\"2100\",\"2101\",\"2102\",\"2103\",\"2104\",\n",
    "#\"2105\",\"2106\",\"2107\",\"2108\",\"2109\",\"2111\",\"2112\",\"2113\",\"2114\",\"2115\",\"2116\",\n",
    "#\"2117\",\"2118\",\"2119\",\"2120\",\"2121\",\"2122\",\"2124\",\"2125\",\"2126\",\"2127\",\"2128\",\n",
    "#\"2129\",\"2130\",\"2131\",\"2132\",\"2133\",\"2134\",\"2136\",\"2137\",\"2140\",\"2141\",\"2142\",\n",
    "#\"2143\",\"2144\",\"2145\",\"2146\",\"2147\",\"2149\",\"2151\",\"2152\",\"2153\",\"2154\",\"2155\",\n",
    "#\"2156\",\"2157\",\"2158\",\"2159\",\"2160\",\"2161\",\"2162\",\"2163\",\"2164\",\"2165\",\"2166\"]\n",
    "\n",
    "zam, stock, inact_stock, az, azN, final_data = zam1.Main()"
   ]
  },
  {
   "cell_type": "code",
   "execution_count": null,
   "metadata": {},
   "outputs": [],
   "source": []
  }
 ],
 "metadata": {
  "kernelspec": {
   "display_name": "Python 3",
   "language": "python",
   "name": "python3"
  },
  "language_info": {
   "codemirror_mode": {
    "name": "ipython",
    "version": 3
   },
   "file_extension": ".py",
   "mimetype": "text/x-python",
   "name": "python",
   "nbconvert_exporter": "python",
   "pygments_lexer": "ipython3",
   "version": "3.6.4"
  }
 },
 "nbformat": 4,
 "nbformat_minor": 2
}
