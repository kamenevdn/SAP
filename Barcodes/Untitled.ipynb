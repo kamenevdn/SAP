{
 "cells": [
  {
   "cell_type": "code",
   "execution_count": 27,
   "metadata": {},
   "outputs": [],
   "source": [
    "import barcode\n",
    "from barcode.writer import ImageWriter\n",
    "from barcode import generate"
   ]
  },
  {
   "cell_type": "code",
   "execution_count": 2,
   "metadata": {},
   "outputs": [
    {
     "data": {
      "text/plain": [
       "['code128',\n",
       " 'code39',\n",
       " 'ean',\n",
       " 'ean13',\n",
       " 'ean14',\n",
       " 'ean8',\n",
       " 'gs1',\n",
       " 'gs1_128',\n",
       " 'gtin',\n",
       " 'isbn',\n",
       " 'isbn10',\n",
       " 'isbn13',\n",
       " 'issn',\n",
       " 'itf',\n",
       " 'jan',\n",
       " 'pzn',\n",
       " 'upc',\n",
       " 'upca']"
      ]
     },
     "execution_count": 2,
     "metadata": {},
     "output_type": "execute_result"
    }
   ],
   "source": [
    "barcode.PROVIDED_BARCODES"
   ]
  },
  {
   "cell_type": "code",
   "execution_count": 46,
   "metadata": {},
   "outputs": [],
   "source": [
    "MEO = barcode.get_barcode_class('code128')\n",
    "MEO\n",
    "meo = MEO('MEO302400000003')\n",
    "meo.writer=ImageWriter()\n",
    "meo.write('MEO302400000003.png')"
   ]
  },
  {
   "cell_type": "code",
   "execution_count": 32,
   "metadata": {},
   "outputs": [],
   "source": [
    "name = generate('code128', 'MEO101000000000003', output='barcode_svg')"
   ]
  },
  {
   "cell_type": "code",
   "execution_count": null,
   "metadata": {},
   "outputs": [],
   "source": [
    "barcode.Code128()"
   ]
  }
 ],
 "metadata": {
  "kernelspec": {
   "display_name": "Python 3",
   "language": "python",
   "name": "python3"
  },
  "language_info": {
   "codemirror_mode": {
    "name": "ipython",
    "version": 3
   },
   "file_extension": ".py",
   "mimetype": "text/x-python",
   "name": "python",
   "nbconvert_exporter": "python",
   "pygments_lexer": "ipython3",
   "version": "3.6.4"
  }
 },
 "nbformat": 4,
 "nbformat_minor": 4
}
