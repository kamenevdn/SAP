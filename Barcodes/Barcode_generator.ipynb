{
 "cells": [
  {
   "cell_type": "code",
   "execution_count": 1,
   "metadata": {},
   "outputs": [],
   "source": [
    "import barcode\n",
    "from barcode.writer import ImageWriter\n",
    "from barcode import generate\n",
    "import sys\n",
    "import os\n",
    "from PIL import Image"
   ]
  },
  {
   "cell_type": "code",
   "execution_count": 2,
   "metadata": {},
   "outputs": [],
   "source": [
    "def save_png(bar_codes, code_type='ean13'):\n",
    "    BAR = barcode.get_barcode_class(code_type)\n",
    "    file_names = []\n",
    "    for bar_code in bar_codes:\n",
    "        bar = BAR(bar_code)\n",
    "        bar.writer=ImageWriter()\n",
    "        bar.writer.text_distance=1\n",
    "        filename = bar_code+'.png'\n",
    "        bar.write(filename,options={\"text_distance\":1})\n",
    "        file_names.append(filename)\n",
    "    return file_names\n",
    "\n",
    "def save_total_png(pngs, out_file):\n",
    "    images = list(map(Image.open, pngs))\n",
    "    width = images[0].size[0]\n",
    "    height = images[0].size[1]\n",
    "    total_width = (width+5)*3\n",
    "    total_height = (len(images)+3)//3*(height+5)\n",
    "    barcodes_image = Image.new('RGB',(total_width, total_height), color = (255,255,255))\n",
    "    \n",
    "    y_offset = 0\n",
    "    x_offset = 0\n",
    "    for index, im in enumerate(images):\n",
    "        barcodes_image.paste(im, (x_offset,y_offset))\n",
    "        x_offset += width+5\n",
    "        if (index+1)%3==0:\n",
    "            x_offset=0\n",
    "            y_offset += height+5\n",
    "    barcodes_image.save(out_file)\n",
    "    for png in pngs:\n",
    "        os.remove(png)\n",
    "    return"
   ]
  },
  {
   "cell_type": "markdown",
   "metadata": {},
   "source": [
    "ШК для МЕО"
   ]
  },
  {
   "cell_type": "code",
   "execution_count": 39,
   "metadata": {},
   "outputs": [],
   "source": [
    "file_path = 'meo_codes.txt'\n",
    "out_file = 'barcodes.png'\n",
    "bar_codes = open(file_path).read().split()\n",
    "\n",
    "pngs = save_png(bar_codes, code_type='code128')\n",
    "save_total_png(pngs, out_file)"
   ]
  },
  {
   "cell_type": "markdown",
   "metadata": {},
   "source": [
    "ШК для товаров"
   ]
  },
  {
   "cell_type": "code",
   "execution_count": 3,
   "metadata": {},
   "outputs": [],
   "source": [
    "file_path = 'goods_codes.txt'\n",
    "out_file = 'barcodes_ean13.png'\n",
    "bar_codes = open(file_path).read().split()\n",
    "\n",
    "pngs = save_png(bar_codes, code_type='ean13')\n",
    "save_total_png(pngs, out_file)"
   ]
  },
  {
   "cell_type": "code",
   "execution_count": null,
   "metadata": {},
   "outputs": [],
   "source": []
  }
 ],
 "metadata": {
  "kernelspec": {
   "display_name": "Python 3",
   "language": "python",
   "name": "python3"
  },
  "language_info": {
   "codemirror_mode": {
    "name": "ipython",
    "version": 3
   },
   "file_extension": ".py",
   "mimetype": "text/x-python",
   "name": "python",
   "nbconvert_exporter": "python",
   "pygments_lexer": "ipython3",
   "version": "3.6.4"
  }
 },
 "nbformat": 4,
 "nbformat_minor": 4
}
