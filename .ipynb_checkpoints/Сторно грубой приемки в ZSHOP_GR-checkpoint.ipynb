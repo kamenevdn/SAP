{
 "cells": [
  {
   "cell_type": "code",
   "execution_count": 1,
   "metadata": {},
   "outputs": [],
   "source": [
    "import sys, win32com.client\n",
    "import pandas as pd\n",
    "import numpy as np\n",
    "\n",
    "pd.set_option('display.max_rows', 500)\n",
    "pd.set_option('display.max_columns', 500)\n",
    "pd.set_option('display.width', 1000)\n",
    "pd.options.mode.chained_assignment = None"
   ]
  },
  {
   "cell_type": "code",
   "execution_count": 54,
   "metadata": {},
   "outputs": [],
   "source": [
    "def read_vekp(session):\n",
    "    session.StartTransaction(Transaction=\"se16n\")\n",
    "    session.findById(\"wnd[0]/usr/ctxtGD-TAB\").text = \"vekp\"\n",
    "    session.findById(\"wnd[0]\").sendVKey(0)\n",
    "    session.findById(\"wnd[0]/tbar[1]/btn[25]\").press()\n",
    "    session.findById(\"wnd[0]/usr/tblSAPLSE16NSELFIELDS_TC/ctxtGS_SELFIELDS-LOW[2,4]\").text = \"3412\"\n",
    "    session.findById(\"wnd[0]/usr/tblSAPLSE16NSELFIELDS_TC/btnPUSH[4,2]\").setFocus()\n",
    "    session.findById(\"wnd[0]/usr/tblSAPLSE16NSELFIELDS_TC/btnPUSH[4,2]\").press()\n",
    "    #вставка из буфера!!\n",
    "    session.findById(\"wnd[1]/tbar[0]/btn[24]\").press()\n",
    "    session.findById(\"wnd[1]/tbar[0]/btn[8]\").press()\n",
    "    session.findById(\"wnd[0]/tbar[1]/btn[8]\").press()\n",
    "    \n",
    "    #кол-во строк в ALV\n",
    "    grid = session.findById(\"wnd[0]/usr/cntlRESULT_LIST/shellcont/shell\")\n",
    "    rows = grid.rowcount\n",
    "    data = []\n",
    "    for row in range(0,rows):\n",
    "        eo_in = grid.getcellvalue(row,\"VENUM\")\n",
    "        data.append({'ЕОвнутр'  :eo_in})\n",
    "    dataframe = pd.DataFrame(data,columns = ['ЕОвнутр'])\n",
    "    return dataframe\n",
    "\n",
    "def change_husstat(session, venum):\n",
    "    session.StartTransaction(Transaction=\"se16n\")\n",
    "    session.findById(\"wnd[0]/usr/ctxtGD-TAB\").text = \"husstat\"\n",
    "    session.findById(\"wnd[0]\").sendVKey(0)\n",
    "    session.findById(\"wnd[0]/tbar[1]/btn[25]\").press()\n",
    "    session.findById(\"wnd[0]/usr/tblSAPLSE16NSELFIELDS_TC/ctxtGS_SELFIELDS-LOW[2,2]\").setFocus()\n",
    "    session.findById(\"wnd[0]/usr/tblSAPLSE16NSELFIELDS_TC/ctxtGS_SELFIELDS-LOW[2,2]\").text = \"E0005\"\n",
    "    session.findById(\"wnd[0]\").sendVKey(0)\n",
    "    session.findById(\"wnd[0]/usr/tblSAPLSE16NSELFIELDS_TC/btnPUSH[4,1]\").setFocus()\n",
    "    session.findById(\"wnd[0]/usr/tblSAPLSE16NSELFIELDS_TC/btnPUSH[4,1]\").press()\n",
    "    venum['ЕОвнутр']='HU'+venum['ЕОвнутр']\n",
    "    venum.to_clipboard(index=False, header=False, line_terminator='\\r\\n')\n",
    "    session.findById(\"wnd[1]/tbar[0]/btn[24]\").press()\n",
    "    session.findById(\"wnd[1]/tbar[0]/btn[8]\").press()\n",
    "    session.findById(\"wnd[0]/tbar[1]/btn[8]\").press()\n",
    "    \n",
    "    \n",
    "    session.findById(\"wnd[0]/tbar[1]/btn[8]\").press()"
   ]
  },
  {
   "cell_type": "code",
   "execution_count": 55,
   "metadata": {},
   "outputs": [],
   "source": [
    "def Main():\n",
    "    try:\n",
    "        SapGuiAuto = win32com.client.GetObject(\"SAPGUI\")\n",
    "        if not type(SapGuiAuto) == win32com.client.CDispatch:\n",
    "            return\n",
    "        application = SapGuiAuto.GetScriptingEngine\n",
    "        if not type(application) == win32com.client.CDispatch:\n",
    "            SapGuiAuto = None\n",
    "            return\n",
    "        connection = application.Children(0)\n",
    "        if not type(connection) == win32com.client.CDispatch:\n",
    "            application = None\n",
    "            SapGuiAuto = None\n",
    "            return\n",
    "        session = connection.Children(0)\n",
    "        if not type(session) == win32com.client.CDispatch:\n",
    "            connection = None\n",
    "            application = None\n",
    "            SapGuiAuto = None\n",
    "            return\n",
    "        \n",
    "        venum = read_vekp(session)\n",
    "        change_husstat(session,venum)\n",
    "        return venum\n",
    "    \n",
    "    except:\n",
    "        print('Ошибка')\n",
    "        print(sys.exc_info())\n",
    "\n",
    "    finally:\n",
    "        session = None\n",
    "        connection = None\n",
    "        application = None\n",
    "        SapGuiAuto = None"
   ]
  },
  {
   "cell_type": "code",
   "execution_count": 57,
   "metadata": {},
   "outputs": [
    {
     "name": "stdout",
     "output_type": "stream",
     "text": [
      "        ЕОвнутр\n",
      "0  HU1092633814\n",
      "1  HU1092633815\n",
      "2  HU1092633816\n",
      "3  HU1092633817\n"
     ]
    }
   ],
   "source": [
    "if __name__ == \"__main__\":\n",
    "    venum = Main()\n",
    "    print(venum)"
   ]
  },
  {
   "cell_type": "code",
   "execution_count": 15,
   "metadata": {},
   "outputs": [
    {
     "data": {
      "text/plain": [
       "0    102000000008569503\n",
       "1    102000000008569504\n",
       "Name: 0, dtype: int64"
      ]
     },
     "execution_count": 15,
     "metadata": {},
     "output_type": "execute_result"
    }
   ],
   "source": [
    "102000000008569503\n",
    "102000000008569504"
   ]
  },
  {
   "cell_type": "code",
   "execution_count": 40,
   "metadata": {},
   "outputs": [],
   "source": [
    "venum['ЕОвнутр']='HU'+venum['ЕОвнутр']"
   ]
  },
  {
   "cell_type": "code",
   "execution_count": 42,
   "metadata": {},
   "outputs": [],
   "source": [
    "venum.to_clipboard(index=False, header=False, line_terminator='\\r\\n')"
   ]
  },
  {
   "cell_type": "code",
   "execution_count": null,
   "metadata": {},
   "outputs": [],
   "source": [
    "HU1092633816\n",
    "HU1092633817\n"
   ]
  }
 ],
 "metadata": {
  "kernelspec": {
   "display_name": "Python 3",
   "language": "python",
   "name": "python3"
  },
  "language_info": {
   "codemirror_mode": {
    "name": "ipython",
    "version": 3
   },
   "file_extension": ".py",
   "mimetype": "text/x-python",
   "name": "python",
   "nbconvert_exporter": "python",
   "pygments_lexer": "ipython3",
   "version": "3.6.4"
  }
 },
 "nbformat": 4,
 "nbformat_minor": 2
}
