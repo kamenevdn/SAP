{
 "cells": [
  {
   "cell_type": "code",
   "execution_count": 1,
   "metadata": {},
   "outputs": [],
   "source": [
    "import sapscript as ss\n",
    "from IPython.display import display"
   ]
  },
  {
   "cell_type": "code",
   "execution_count": 2,
   "metadata": {},
   "outputs": [],
   "source": [
    "sap = ss.sap()"
   ]
  },
  {
   "cell_type": "code",
   "execution_count": 3,
   "metadata": {},
   "outputs": [
    {
     "name": "stdout",
     "output_type": "stream",
     "text": [
      "Процент комплектации = 20.52\n"
     ]
    }
   ],
   "source": [
    "try:\n",
    "    sap.check_system('ERT')\n",
    "    session = sap.session()\n",
    "    \n",
    "    sap.run('zimk')\n",
    "    session.findById(\"wnd[0]/usr/ctxtS_WRK-LOW\").text = \"2024\"\n",
    "    session.findById(\"wnd[0]/tbar[1]/btn[8]\").press()\n",
    "    \n",
    "    cols = ['VBELN', 'ADDTI', 'INITS_GDS', 'NETWR', 'DDLTI']\n",
    "    cols_name = ['Заказ', 'ВремяДобавл', 'Заказано', 'Скомплектовано', 'СобратьК']\n",
    "    \n",
    "    grid = session.findById(\"wnd[0]/usr/cntlALV_0100/shellcont/shellcont/shell/shellcont[0]/shell\")\n",
    "    \n",
    "    table = sap.read_alv(grid, cols, cols_name)\n",
    "    \n",
    "    table.drop(index = table[table['Заказ']==''].index, inplace=True)\n",
    "    \n",
    "    table['Заказано'] = table['Заказано'].apply(sap.replace_minus_float)\n",
    "    table['Скомплектовано'] = table['Скомплектовано'].apply(sap.replace_minus_float)\n",
    "    \n",
    "    if table['Заказано'].sum() != 0:\n",
    "        percent_complete = table['Скомплектовано'].sum()/table['Заказано'].sum()*100\n",
    "    else:\n",
    "        percent_complete = 100\n",
    "    print('Процент комплектации = {:.2f}'.format(percent_complete))\n",
    "    \n",
    "except:\n",
    "    sap.error_print()\n",
    "finally:\n",
    "    session = None"
   ]
  },
  {
   "cell_type": "code",
   "execution_count": 5,
   "metadata": {},
   "outputs": [
    {
     "ename": "TypeError",
     "evalue": "'NoneType' object is not iterable",
     "output_type": "error",
     "traceback": [
      "\u001b[1;31m---------------------------------------------------------------------------\u001b[0m",
      "\u001b[1;31mTypeError\u001b[0m                                 Traceback (most recent call last)",
      "\u001b[1;32m<ipython-input-5-1484b203f71f>\u001b[0m in \u001b[0;36m<module>\u001b[1;34m()\u001b[0m\n\u001b[1;32m----> 1\u001b[1;33m \u001b[0mtable_all\u001b[0m \u001b[1;33m=\u001b[0m \u001b[0msap\u001b[0m\u001b[1;33m.\u001b[0m\u001b[0mread_alv\u001b[0m\u001b[1;33m(\u001b[0m\u001b[0mgrid\u001b[0m\u001b[1;33m,\u001b[0m \u001b[0mcols\u001b[0m\u001b[1;33m=\u001b[0m\u001b[1;32mNone\u001b[0m\u001b[1;33m,\u001b[0m \u001b[0mcols_name\u001b[0m\u001b[1;33m=\u001b[0m\u001b[1;32mNone\u001b[0m\u001b[1;33m)\u001b[0m\u001b[1;33m\u001b[0m\u001b[0m\n\u001b[0m",
      "\u001b[1;32mC:\\OneDrive\\Python\\Notebooks\\SAP\\sapscript.py\u001b[0m in \u001b[0;36mread_alv\u001b[1;34m(self, grid, cols, cols_name, max_rows)\u001b[0m\n\u001b[0;32m     69\u001b[0m             \u001b[0mrow_data\u001b[0m \u001b[1;33m=\u001b[0m \u001b[1;33m{\u001b[0m\u001b[1;33m}\u001b[0m\u001b[1;33m\u001b[0m\u001b[0m\n\u001b[0;32m     70\u001b[0m \u001b[1;33m\u001b[0m\u001b[0m\n\u001b[1;32m---> 71\u001b[1;33m             \u001b[1;32mfor\u001b[0m \u001b[0mcol_name\u001b[0m \u001b[1;32min\u001b[0m \u001b[0mcols\u001b[0m\u001b[1;33m:\u001b[0m\u001b[1;33m\u001b[0m\u001b[0m\n\u001b[0m\u001b[0;32m     72\u001b[0m                 \u001b[0mcol_value\u001b[0m \u001b[1;33m=\u001b[0m \u001b[0mgrid\u001b[0m\u001b[1;33m.\u001b[0m\u001b[0mgetcellvalue\u001b[0m\u001b[1;33m(\u001b[0m\u001b[0mrow\u001b[0m\u001b[1;33m,\u001b[0m \u001b[0mcol_name\u001b[0m\u001b[1;33m)\u001b[0m\u001b[1;33m\u001b[0m\u001b[0m\n\u001b[0;32m     73\u001b[0m                 \u001b[0mrow_data\u001b[0m\u001b[1;33m[\u001b[0m\u001b[0mcol_name\u001b[0m\u001b[1;33m]\u001b[0m \u001b[1;33m=\u001b[0m \u001b[0mcol_value\u001b[0m\u001b[1;33m\u001b[0m\u001b[0m\n",
      "\u001b[1;31mTypeError\u001b[0m: 'NoneType' object is not iterable"
     ]
    }
   ],
   "source": [
    "table_all = sap.read_alv(grid)"
   ]
  },
  {
   "cell_type": "code",
   "execution_count": null,
   "metadata": {},
   "outputs": [],
   "source": []
  }
 ],
 "metadata": {
  "kernelspec": {
   "display_name": "Python 3",
   "language": "python",
   "name": "python3"
  },
  "language_info": {
   "codemirror_mode": {
    "name": "ipython",
    "version": 3
   },
   "file_extension": ".py",
   "mimetype": "text/x-python",
   "name": "python",
   "nbconvert_exporter": "python",
   "pygments_lexer": "ipython3",
   "version": "3.6.4"
  }
 },
 "nbformat": 4,
 "nbformat_minor": 4
}
