{
 "cells": [
  {
   "cell_type": "code",
   "execution_count": 129,
   "metadata": {
    "scrolled": true
   },
   "outputs": [
    {
     "name": "stdout",
     "output_type": "stream",
     "text": [
      "ZTREP1   с EWM:              11,1521322\n",
      "ZTREP2   с EWM:              11,2\n",
      "ZTREP2   с EWM дриллдаун:    11,1521322\n",
      "ZTREP1 без EWM:              15,2524997\n",
      "ZTREP2 без EWM:              15,3\n",
      "ZTREP2 без EWM дриллдаун:    15,2524997\n"
     ]
    }
   ],
   "source": [
    "import sys, win32com.client\n",
    "\n",
    "#-Sub Main--------------------------------------------------------------\n",
    "def Main():\n",
    "\n",
    "    try:\n",
    "        SapGuiAuto = win32com.client.GetObject(\"SAPGUI\")\n",
    "        if not type(SapGuiAuto) == win32com.client.CDispatch:\n",
    "            return\n",
    "        application = SapGuiAuto.GetScriptingEngine\n",
    "        if not type(application) == win32com.client.CDispatch:\n",
    "            SapGuiAuto = None\n",
    "            return\n",
    "        connection = application.Children(0)\n",
    "        if not type(connection) == win32com.client.CDispatch:\n",
    "            application = None\n",
    "            SapGuiAuto = None\n",
    "            return\n",
    "        session = connection.Children(0)\n",
    "        if not type(session) == win32com.client.CDispatch:\n",
    "            connection = None\n",
    "            application = None\n",
    "            SapGuiAuto = None\n",
    "            return\n",
    "        \n",
    "        action(session)\n",
    "        \n",
    "    except:\n",
    "        print('Ошибка')\n",
    "        print(sys.exc_info())\n",
    "\n",
    "    finally:\n",
    "        session = None\n",
    "        connection = None\n",
    "        application = None\n",
    "        SapGuiAuto = None      \n",
    "#-Main------------------------------------------------------------------\n",
    "\n",
    "def action(session):\n",
    "    session.StartTransaction(Transaction=\"ZTREP1\")\n",
    "    session.findById(\"wnd[0]/tbar[1]/btn[17]\").press()\n",
    "    session.findById(\"wnd[1]/usr/cntlALV_CONTAINER_1/shellcont/shell\").selectedRows = \"0\"\n",
    "    session.findById(\"wnd[1]/usr/cntlALV_CONTAINER_1/shellcont/shell\").doubleClickCurrentCell()\n",
    "    session.findById(\"wnd[0]/tbar[1]/btn[8]\").press()\n",
    "    grid = session.FindById(\"wnd[0]/usr/cntlALV_BOX/shellcont/shell\")\n",
    "    ztrep1_total_pallet_withewm = grid.getcellvalue(0,\"PALCOUNT\")\n",
    "    session.findById(\"wnd[0]/tbar[0]/btn[3]\").press()\n",
    "    session.findById(\"wnd[0]/usr/chkP_ASKEWM\").selected = 0\n",
    "    session.findById(\"wnd[0]/tbar[1]/btn[8]\").press()\n",
    "    grid = session.FindById(\"wnd[0]/usr/cntlALV_BOX/shellcont/shell\")\n",
    "    ztrep1_total_pallet_withoutewm = grid.getcellvalue(0,\"PALCOUNT\")\n",
    "    \n",
    "    session.StartTransaction(Transaction=\"ZTREP2\")\n",
    "    session.findById(\"wnd[0]/tbar[1]/btn[17]\").press()\n",
    "    session.findById(\"wnd[1]/usr/cntlALV_CONTAINER_1/shellcont/shell\").selectedRows = \"4\"\n",
    "    session.findById(\"wnd[1]/usr/cntlALV_CONTAINER_1/shellcont/shell\").doubleClickCurrentCell()\n",
    "    session.findById(\"wnd[0]/tbar[1]/btn[8]\").press()\n",
    "    grid = session.FindById(\"wnd[0]/usr/cntlALV_BOX/shellcont/shell\")\n",
    "    ztrep2_total_pallet_withewm = grid.getcellvalue(0,\"SMMNG\")\n",
    "    session.findById(\"wnd[0]/usr/cntlALV_BOX/shellcont/shell\").setCurrentCell(1, \"SMMNG\")\n",
    "    session.findById(\"wnd[0]/usr/cntlALV_BOX/shellcont/shell\").doubleClickCurrentCell()\n",
    "    grid = session.FindById(\"wnd[0]/usr/cntlALV_BOX/shellcont/shell\")\n",
    "    ztrep2_total_pallet_withewm_drill = grid.getcellvalue(0,\"PALCOUNT\")\n",
    "    session.findById(\"wnd[0]/tbar[0]/btn[3]\").press()\n",
    "    session.findById(\"wnd[0]/tbar[0]/btn[3]\").press()\n",
    "    \n",
    "    session.findById(\"wnd[0]/usr/chkP_ASKEWM\").selected = 0\n",
    "    session.findById(\"wnd[0]/tbar[1]/btn[8]\").press()\n",
    "    grid = session.FindById(\"wnd[0]/usr/cntlALV_BOX/shellcont/shell\")\n",
    "    ztrep2_total_pallet_withoutewm = grid.getcellvalue(0,\"SMMNG\")\n",
    "    session.findById(\"wnd[0]/usr/cntlALV_BOX/shellcont/shell\").setCurrentCell(1, \"SMMNG\")\n",
    "    session.findById(\"wnd[0]/usr/cntlALV_BOX/shellcont/shell\").doubleClickCurrentCell()\n",
    "    grid = session.FindById(\"wnd[0]/usr/cntlALV_BOX/shellcont/shell\")\n",
    "    ztrep2_total_pallet_withoutewm_drill = grid.getcellvalue(0,\"PALCOUNT\")\n",
    "    \n",
    "    session.findById(\"wnd[0]/tbar[0]/btn[3]\").press()\n",
    "    session.findById(\"wnd[0]/tbar[0]/btn[3]\").press()\n",
    "    \n",
    "    print(\"ZTREP1   с EWM:             \",ztrep1_total_pallet_withewm)\n",
    "    print(\"ZTREP2   с EWM:             \",ztrep2_total_pallet_withewm)\n",
    "    print(\"ZTREP2   с EWM дриллдаун:   \",ztrep2_total_pallet_withewm_drill)\n",
    "    print(\"ZTREP1 без EWM:             \",ztrep1_total_pallet_withoutewm)\n",
    "    print(\"ZTREP2 без EWM:             \",ztrep2_total_pallet_withoutewm)\n",
    "    print(\"ZTREP2 без EWM дриллдаун:   \",ztrep2_total_pallet_withoutewm_drill)\n",
    "    #session.findById(\"wnd[0]\").sendVKey(0)\n",
    "    \n",
    "if __name__ == \"__main__\":\n",
    "    Main()"
   ]
  },
  {
   "cell_type": "raw",
   "metadata": {},
   "source": []
  },
  {
   "cell_type": "code",
   "execution_count": null,
   "metadata": {},
   "outputs": [],
   "source": []
  }
 ],
 "metadata": {
  "kernelspec": {
   "display_name": "Python 3",
   "language": "python",
   "name": "python3"
  },
  "language_info": {
   "codemirror_mode": {
    "name": "ipython",
    "version": 3
   },
   "file_extension": ".py",
   "mimetype": "text/x-python",
   "name": "python",
   "nbconvert_exporter": "python",
   "pygments_lexer": "ipython3",
   "version": "3.6.4"
  }
 },
 "nbformat": 4,
 "nbformat_minor": 2
}
