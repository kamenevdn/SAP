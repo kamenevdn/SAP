{
 "cells": [
  {
   "cell_type": "code",
   "execution_count": 123,
   "metadata": {},
   "outputs": [],
   "source": [
    "import requests as req\n",
    "from datetime import datetime\n",
    "from datetime import timedelta"
   ]
  },
  {
   "cell_type": "code",
   "execution_count": 136,
   "metadata": {},
   "outputs": [],
   "source": [
    "def create_ND_hybris_order(delivery_date, plant):\n",
    "    with req.Session() as session:\n",
    "        self_req = session.get(\n",
    "            url = 'https://api.go.detmir-stage.ru/v1/users/self',\n",
    "            headers = {\"content-type\": \"application/json\"}).json()\n",
    "        \n",
    "        cart_id = self_req['carts'][0]['href']\n",
    "        user_id = self_req['carts'][0]['id']\n",
    "        \n",
    "        cart_url = 'https://api.go.detmir-stage.ru/v1'+cart_id+'?filter=delivery.address.code:61000001000;delivery.type:courier&exclude=delivery&ts=1566473822027&warehouseCode=1020&deliver'\n",
    "        items_url = 'https://api.go.detmir-stage.ru/v2'+cart_id+'/items'\n",
    "    \n",
    "        items1 = session.post(url = items_url, json = {\"id\":\"3087008\"}, headers = {\"content-type\": \"application/json\"}).json()\n",
    "        items2 = session.post(url = items_url, json = {\"id\":\"3087009\"}, headers = {\"content-type\": \"application/json\"}).json()\n",
    "        items3 = session.post(url = items_url, json = {\"id\":\"3087010\"}, headers = {\"content-type\": \"application/json\"}).json()\n",
    "        items4 = session.post(url = items_url, json = {\"id\":\"3087011\"}, headers = {\"content-type\": \"application/json\"}).json()\n",
    "        \n",
    "        order = session.post(\n",
    "            url = 'https://api.go.detmir-stage.ru/v1/orders',\n",
    "            json = {\"agreed\":True,\n",
    "                    \"notification\":{\"sms\":True,\"phone\":False},\n",
    "                    \"address\":{\"street\":\"ул Дарвина\",\n",
    "                               \"house\":\"27\",\n",
    "                               \"city\":\"Ростов-на-Дону\",\n",
    "                               \"code\":\"61000001000\",\n",
    "                               \"floor\":\"1\",\n",
    "                               \"entrance\":\"1\",\n",
    "                               \"apartment\":\"1\",\n",
    "                               \"geoLat\":47.241596,\n",
    "                               \"geoLon\":39.6327646},\n",
    "                    \"contact\":{\"customer\":\"Каменев Дмитрий\",\n",
    "                               \"phone\":\"+79031784239\",\n",
    "                               \"email\":\"dkamenev@prota.ru\"},\n",
    "                    \"delivery\":{\"type\":\"courier\",\n",
    "                                \"store\":{\"id\":None},\n",
    "                                \"date\": delivery_date,\n",
    "                                \"period\":{\"from\":delivery_date+\"T06:00:00Z\",\n",
    "                                          \"to\":delivery_date+\"T17:00:00Z\",\n",
    "                                          \"code\":1},\n",
    "                                \"warehouseCode\":plant,\n",
    "                                \"courierMethod\":\"NEXTDAY\"},\n",
    "                    \"payments\":[{\"type\":\"cash\"}],\n",
    "                    \"comment\":\"Тестовый заказ\",\n",
    "                    \"bonus_card\":None},\n",
    "            headers = {\"content-type\": \"application/json\",\n",
    "                       \"Referer\": \"https://go.detmir-stage.ru/cart/\",\n",
    "                       'Sec-Fetch-Mode': 'cors',      \n",
    "                       \"User-Agent\":\"Mozilla/5.0 (Windows NT 6.3; Win64; x64) AppleWebKit/537.36 (KHTML, like Gecko) Chrome/76.0.3809.100 Safari/537.36\",\n",
    "                       \"X-CSRF-Token\": \"null\"}).json()\n",
    "    return order['id']"
   ]
  },
  {
   "cell_type": "code",
   "execution_count": 137,
   "metadata": {},
   "outputs": [
    {
     "data": {
      "text/plain": [
       "'5630053847'"
      ]
     },
     "execution_count": 137,
     "metadata": {},
     "output_type": "execute_result"
    }
   ],
   "source": [
    "delivery_date = (datetime.now()+timedelta(days=5)).strftime(\"%Y-%m-%d\")\n",
    "plant         = 3024\n",
    "\n",
    "create_ND_hybris_order(delivery_date, plant)"
   ]
  },
  {
   "cell_type": "code",
   "execution_count": 122,
   "metadata": {},
   "outputs": [
    {
     "data": {
      "text/plain": [
       "{'bonus': None,\n",
       " 'code': None,\n",
       " 'details': None,\n",
       " 'entity': False,\n",
       " 'id': '3087008',\n",
       " 'labels': None,\n",
       " 'old_price': None,\n",
       " 'pickup_available': True,\n",
       " 'pictures': [],\n",
       " 'price': {},\n",
       " 'promo_restricted': False,\n",
       " 'quantity': 1,\n",
       " 'rating': None,\n",
       " 'review_count': 0,\n",
       " 'title': '',\n",
       " 'total': {}}"
      ]
     },
     "execution_count": 122,
     "metadata": {},
     "output_type": "execute_result"
    }
   ],
   "source": [
    "items1"
   ]
  },
  {
   "cell_type": "code",
   "execution_count": null,
   "metadata": {},
   "outputs": [],
   "source": []
  }
 ],
 "metadata": {
  "kernelspec": {
   "display_name": "Python 3",
   "language": "python",
   "name": "python3"
  },
  "language_info": {
   "codemirror_mode": {
    "name": "ipython",
    "version": 3
   },
   "file_extension": ".py",
   "mimetype": "text/x-python",
   "name": "python",
   "nbconvert_exporter": "python",
   "pygments_lexer": "ipython3",
   "version": "3.6.4"
  }
 },
 "nbformat": 4,
 "nbformat_minor": 4
}
