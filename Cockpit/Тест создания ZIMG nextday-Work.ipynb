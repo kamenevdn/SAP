{
 "cells": [
  {
   "cell_type": "code",
   "execution_count": 1,
   "metadata": {},
   "outputs": [],
   "source": [
    "import sys, win32com.client\n",
    "import pandas as pd\n",
    "import numpy as np\n",
    "import datetime\n",
    "import sapscript as ss"
   ]
  },
  {
   "cell_type": "code",
   "execution_count": 2,
   "metadata": {
    "jupyter": {
     "source_hidden": true
    }
   },
   "outputs": [],
   "source": [
    "def main(template_path, system='ERD'):\n",
    "    try:\n",
    "        #Подставляем в шаблон код системы ERD/ERT\n",
    "        template_path = template_path.replace('XXXX',system)\n",
    "        #Обновляем шаблон новыми номерами заказов\n",
    "        template = pd.read_excel(template_path,dtype=str)\n",
    "        template = template.replace('nan','')\n",
    "        template['ORDER_ID'] = template['ORDER_ID'].apply(int)+len(template['ORDER_ID'].unique())\n",
    "        template.to_excel(template_path,index=False)\n",
    "        \n",
    "        sc = ss.script()\n",
    "        session = sc.session()\n",
    "        \n",
    "        sc.run('se38')\n",
    "        session.findById(\"wnd[0]/usr/ctxtRS38M-PROGRAMM\").text = \"Z_IM_CREATE_ORDERS\"\n",
    "        session.findById(\"wnd[0]\").sendVKey(8)\n",
    "        \n",
    "        session.findById(\"wnd[0]/usr/ctxtP_FILE\").text = template_path\n",
    "        session.findById(\"wnd[0]/usr/radP_CREATE\").select()\n",
    "        session.findById(\"wnd[0]/usr/radP_CREATE\").setFocus()\n",
    "        session.findById(\"wnd[0]\").sendVKey(8)\n",
    "        screen = session.findById(\"wnd[0]/usr\")\n",
    "        for response in list(screen.children)[2:]:\n",
    "            if response.text != '':\n",
    "                print(response.text)\n",
    "        print()\n",
    "        session.findById(\"wnd[0]\").sendVKey(3)\n",
    "        \n",
    "        session.findById(\"wnd[0]/usr/ctxtP_FILE\").text = template_path\n",
    "        session.findById(\"wnd[0]/usr/radP_COCKP\").select()\n",
    "        session.findById(\"wnd[0]/usr/radP_COCKP\").setFocus()\n",
    "        session.findById(\"wnd[0]\").sendVKey(8)\n",
    "        screen = session.findById(\"wnd[0]/usr\")\n",
    "        for response in list(screen.children)[2:]:\n",
    "            if response.text != '':\n",
    "                print(response.text)\n",
    "    except:\n",
    "        sc.error_print()\n",
    "        \n",
    "    finally:\n",
    "        sc.session_close()\n",
    "        session = None"
   ]
  },
  {
   "cell_type": "code",
   "execution_count": 14,
   "metadata": {},
   "outputs": [
    {
     "name": "stdout",
     "output_type": "stream",
     "text": [
      "Заказ:\n",
      "0045961484\n",
      "45961484\n",
      "200\n",
      "\n",
      "Заказ:\n",
      "0045961484\n",
      "45961484\n",
      "200\n",
      "В Кокпит успешно добавлен заказ номер 45961484\n"
     ]
    }
   ],
   "source": [
    "#XXXX - идентификатор системы (ERD, ERT), автоматически заменится на код системы из параметра system функции main()\n",
    "template_path = 'C:\\OneDrive\\Python\\\\Notebooks\\SAP\\Cockpit\\\\ND_template_XXXX.xlsx'\n",
    "main(template_path, 'ERD')"
   ]
  },
  {
   "cell_type": "code",
   "execution_count": null,
   "metadata": {},
   "outputs": [],
   "source": []
  }
 ],
 "metadata": {
  "kernelspec": {
   "display_name": "Python 3",
   "language": "python",
   "name": "python3"
  },
  "language_info": {
   "codemirror_mode": {
    "name": "ipython",
    "version": 3
   },
   "file_extension": ".py",
   "mimetype": "text/x-python",
   "name": "python",
   "nbconvert_exporter": "python",
   "pygments_lexer": "ipython3",
   "version": "3.6.4"
  }
 },
 "nbformat": 4,
 "nbformat_minor": 4
}
