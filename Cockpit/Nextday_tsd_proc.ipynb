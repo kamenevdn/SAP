{
 "cells": [
  {
   "cell_type": "code",
   "execution_count": 7,
   "metadata": {
    "jupyter": {
     "source_hidden": true
    }
   },
   "outputs": [],
   "source": [
    "import os\n",
    "import re\n",
    "from datetime import datetime\n",
    "\n",
    "def read_barcodes(file_shtr):\n",
    "    with open(out_dir+file_shtr) as f:\n",
    "        lines = f.readlines()\n",
    "        barcodes = {}\n",
    "        for line in lines:\n",
    "            pos = line.strip().split(',')\n",
    "            pos = [x.replace('\"','') for x in pos]\n",
    "            barcodes[pos[1]] = pos[0]\n",
    "    return barcodes\n",
    "\n",
    "def pack_order(file, meo_code, barcodes):\n",
    "    with open(out_dir+file) as f:\n",
    "        lines = f.readlines()\n",
    "        order = {}\n",
    "        order['id'] = ''\n",
    "        order['items'] = {}\n",
    "        for index, line in enumerate(lines):\n",
    "            pos = line.strip().split('\",\"')\n",
    "            pos = [x.replace('\"','') for x in pos]\n",
    "            if order['id'] == '':\n",
    "                order['id'] = pos[0]\n",
    "            order['items'][str(index)] = {}\n",
    "            order['items'][str(index)]['item_id'] = pos[1]\n",
    "            order['items'][str(index)]['item_art'] = pos[2]\n",
    "            order['items'][str(index)]['item_text'] = pos[3]\n",
    "            order['items'][str(index)]['item_qnt'] = pos[4]\n",
    "    \n",
    "    out_file_name = in_dir+'Уп_зак_GOOD_[УПАКОВКА_ЗАКАЗОВ]'+order['id']+'.DAT'\n",
    "    with open(out_file_name, 'w') as f:\n",
    "        for index, pos in enumerate(order['items']):\n",
    "            for one_item in range(int(order['items'][str(index)]['item_qnt'])):\n",
    "                current_time = datetime.now().strftime(\"%H:%M:%S\")\n",
    "                write_string = order['id']+','+\\\n",
    "                               meo_code+','+\\\n",
    "                               barcodes[order['items'][str(index)]['item_id']]+','+\\\n",
    "                               order['items'][str(index)]['item_id']+','+\\\n",
    "                               '1'+','+\\\n",
    "                               current_time+'\\n'\n",
    "                f.write(write_string)\n",
    "    return\n",
    "\n",
    "def pack(files_pack, meo_code, barcodes):\n",
    "    for file in files_pack:        \n",
    "        pack_order(file, meo_code, barcodes)\n",
    "        meo_code = 'MEO'+str(int(meo_code.split('MEO')[1])+1)\n",
    "    new_free_meo_code = meo_code\n",
    "    return new_free_meo_code\n",
    "\n",
    "def del_pack_files(files_pack, file_shtr):\n",
    "    for file in files_pack:\n",
    "        os.remove(out_dir+file)\n",
    "    os.remove(out_dir+file_shtr)\n",
    "\n",
    "def read_meo(meo_file, plant):\n",
    "    with open('meo_number.txt') as f:\n",
    "        meo_code = f.read().replace('XXXX', plant)\n",
    "    return meo_code\n",
    "\n",
    "def write_meo(meo_file, new_free_meo_code):\n",
    "    with open(meo_file, 'w') as f:\n",
    "        new_free_meo_code = 'MEOXXXX'+new_free_meo_code[7:]\n",
    "        f.write(new_free_meo_code)\n",
    "    print('Следующий свободный код MEO (записан в файл): ',new_free_meo_code)\n",
    "    return new_free_meo_code\n",
    "\n",
    "def tsd(plant, meo_file, file_shtr):\n",
    "    #Получаем список файлов для ТСД по маске\n",
    "    files_pack = [f for f in os.listdir(out_dir) if re.match(r'\\[УПАКОВКА_ЗАКАЗОВ\\].*\\.DAT', f)]\n",
    "    \n",
    "    #Начальный код MEO (после использования в файл запишется следующий свободный номер)\n",
    "    meo_code = read_meo(meo_file, plant)\n",
    "    \n",
    "    #Читаем файл со штрих-кодами\n",
    "    barcodes = read_barcodes(file_shtr)\n",
    "    \n",
    "    #Пакуем заказы в MEO и записываем в файл следующий незанятый код MEO\n",
    "    new_free_meo_code = pack(files_pack, meo_code, barcodes)\n",
    "    write_meo(meo_file, new_free_meo_code)\n",
    "    \n",
    "    #Удаляем исходные файлы упаковкиа\n",
    "    del_pack_files(files_pack, file_shtr)"
   ]
  },
  {
   "cell_type": "code",
   "execution_count": 10,
   "metadata": {},
   "outputs": [
    {
     "name": "stdout",
     "output_type": "stream",
     "text": [
      "Следующий свободный код MEO (записан в файл):  MEOXXXX01000060\n"
     ]
    }
   ],
   "source": [
    "#Исходные данные по файлам комплектации\n",
    "out_dir    = 'C:\\OMNIMAIL\\OUT\\\\'\n",
    "in_dir     = 'C:\\OMNIMAIL\\IN\\\\'\n",
    "file_shtr  = 'УПАКОВКА_ЗАКАЗОВ-SHTR.DAT'\n",
    "meo_file   = 'meo_number.txt' #храним тут текущий свободный номер МЕО\n",
    "plant      = '2059'\n",
    "\n",
    "#Формируем файлы загрузки в ТСД\n",
    "tsd(plant, meo_file, file_shtr)"
   ]
  },
  {
   "cell_type": "code",
   "execution_count": null,
   "metadata": {},
   "outputs": [],
   "source": []
  },
  {
   "cell_type": "code",
   "execution_count": null,
   "metadata": {},
   "outputs": [],
   "source": []
  }
 ],
 "metadata": {
  "kernelspec": {
   "display_name": "Python 3",
   "language": "python",
   "name": "python3"
  },
  "language_info": {
   "codemirror_mode": {
    "name": "ipython",
    "version": 3
   },
   "file_extension": ".py",
   "mimetype": "text/x-python",
   "name": "python",
   "nbconvert_exporter": "python",
   "pygments_lexer": "ipython3",
   "version": "3.6.4"
  }
 },
 "nbformat": 4,
 "nbformat_minor": 4
}
