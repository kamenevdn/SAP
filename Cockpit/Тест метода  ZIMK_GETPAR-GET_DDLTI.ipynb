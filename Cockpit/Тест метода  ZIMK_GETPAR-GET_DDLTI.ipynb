{
 "cells": [
  {
   "cell_type": "code",
   "execution_count": 1,
   "metadata": {},
   "outputs": [],
   "source": [
    "import sys, win32com.client\n",
    "import pandas as pd\n",
    "import numpy as np\n",
    "import sapscript as ss\n",
    "import re"
   ]
  },
  {
   "cell_type": "markdown",
   "metadata": {},
   "source": [
    "    I_AGENT     Номер дебитора\n",
    "    I_WERKS     Таблица заводов для National Contracts\n",
    "    I_ADDTI     Попадание заказа на сборку в Кокпит (дата и время)\n",
    "    I_VDATU_LOC Дата доставки из заказа, локальная\n",
    "    I_VTIME_LOC Время доставки из заказа, локальное\n",
    "    I_SHTAG_DT  Плановая дата отгрузки агенту. \n",
    "    E_DDLTI     Собрать и разместить не позднее (дата и время)\n",
    "    E_DDLTI_BP  Собрать к без учёта паллетирования (отгрузки агенту)\n",
    "    E_PALTI     Время начала палетирования\n",
    "    E_DATES     Хранить собранный заказ ИМ по (включительно)\n",
    "    CS_NORMS    Кокпит: нормативы сборки"
   ]
  },
  {
   "cell_type": "code",
   "execution_count": 2,
   "metadata": {},
   "outputs": [],
   "source": [
    "def start_se24(sc,session):\n",
    "    title = session.findById(\"wnd[0]\").text\n",
    "    if title != 'Тест метода GET_DDLTI: ведение параметров ввода':\n",
    "        sc.run('se24')\n",
    "        session.findById(\"wnd[0]/usr/ctxtSEOCLASS-CLSNAME\").text = \"zimk_getpar\"\n",
    "        session.findById(\"wnd[0]\").sendVKey(0)\n",
    "        session.findById(\"wnd[0]/tbar[1]/btn[8]\").press()\n",
    "        session.findById(\"wnd[1]/tbar[0]/btn[0]\").press()\n",
    "        session.findById(\"wnd[0]/usr/lbl[45,17]\").setFocus()\n",
    "        session.findById(\"wnd[0]/usr/lbl[45,17]\").caretPosition = 0\n",
    "        session.findById(\"wnd[0]\").sendVKey(2)\n",
    "    return\n",
    "\n",
    "def fill_fields(session, import_data):\n",
    "    session.findById(\"wnd[0]/usr/txt[48,10]\").text = import_data['I_VKORG']\n",
    "    session.findById(\"wnd[0]/usr/txt[48,11]\").text = import_data['I_VSBED']\n",
    "    session.findById(\"wnd[0]/usr/txt[48,12]\").text = import_data['I_AGENT']\n",
    "    session.findById(\"wnd[0]/usr/txt[48,13]\").text = import_data['I_WERKS']\n",
    "    session.findById(\"wnd[0]/usr/txt[48,14]\").text = import_data['I_ADDTI']\n",
    "    session.findById(\"wnd[0]/usr/txt[48,15]\").text = import_data['I_VDATU_LOC']\n",
    "    session.findById(\"wnd[0]/usr/txt[48,16]\").text = import_data['I_VTIME_LOC']\n",
    "    session.findById(\"wnd[0]/usr/txt[48,17]\").text = import_data['I_SHTAG_DT']\n",
    "    return\n",
    "\n",
    "def get_ddlti(session):\n",
    "    ddlti = session.findById(\"wnd[0]/usr/lbl[48,23]\").text\n",
    "    ddlti0 = session.findById(\"wnd[0]/usr/lbl[48,24]\").text\n",
    "    params = session.findById(\"wnd[0]/usr/lbl[51,30]\").text\n",
    "    return ddlti0, ddlti, params\n",
    "\n",
    "def test_print(row, ddlti0, ddlti, params):\n",
    "    if row['E_DDLTI']==ddlti:\n",
    "        delta = \"\\033[1;30;42mok     \\033[0;0m\"\n",
    "    else:\n",
    "        delta = \"\\033[1;30;41mError  \\033[0;0m\"\n",
    "        \n",
    "    print(format_string.format(row['I_VSBED'],\n",
    "                               row['I_AGENT'],\n",
    "                               row['I_WERKS'],\n",
    "                               row['I_ADDTI'],\n",
    "                               row['I_VDATU_LOC'],\n",
    "                               row['I_VTIME_LOC'],\n",
    "                               row['I_SHTAG_DT'],\n",
    "                               ddlti0,\n",
    "                               ddlti,\n",
    "                               row['E_DDLTI'],\n",
    "                               delta),\n",
    "                               (*params.split()))\n",
    "    return\n",
    "\n",
    "def main(import_file, sheet_name='ND'):\n",
    "    try:\n",
    "        sc = ss.script()\n",
    "        session = sc.session()\n",
    "        \n",
    "        #Проверяем, не запущена ли se24 и нужный метод. Если нет - запускаем\n",
    "        start_se24(sc,session)\n",
    "        \n",
    "        #Читаем входные данные\n",
    "        #import_data = pd.read_csv('get_ddlti_import.csv',dtype=str, delimiter='\\t')\n",
    "        import_data = pd.read_excel(import_file,dtype=str, skiprows=1, sheet_name=sheet_name)\n",
    "        import_data = import_data.replace('nan','')\n",
    "        format_string = '{:4s}{:11s}{:6s}{:21s}{:12s}{:10s}{:12s}{:19s}{:19s}{:19s}{:7s}'\n",
    "        headers = ['Тип','Агент','Завод','ВремяВкокпит','ДатаДост','ВремяДост','ДатаОтгр','СобратьКбезАгента','СобратьК','Эталон','Check']\n",
    "        \n",
    "        #К этому моменту должен быть открыт метод ZIMK_GETPAR->GET_DDLTI() на ввод данных\n",
    "        current_plant = ''\n",
    "        for index, row in import_data.iterrows():\n",
    "            fill_fields(session, row)\n",
    "            session.findById(\"wnd[0]\").sendVKey(8)\n",
    "            ddlti0, ddlti, params = get_ddlti(session)\n",
    "            session.findById(\"wnd[0]\").sendVKey(3)\n",
    "            if row['I_WERKS'] != current_plant:\n",
    "                print('\\r\\nЗавод', row['I_WERKS'])\n",
    "                print(format_string.format(*headers),'Params')\n",
    "                current_plant = row['I_WERKS']\n",
    "            test_print(row, ddlti0, ddlti, params)\n",
    "    except:\n",
    "        sc.error_print()\n",
    "        \n",
    "    finally:\n",
    "        sc.session_close()\n",
    "        session = None"
   ]
  },
  {
   "cell_type": "code",
   "execution_count": 4,
   "metadata": {},
   "outputs": [
    {
     "name": "stdout",
     "output_type": "stream",
     "text": [
      "Ошибка\n",
      "(<class 'AttributeError'>, AttributeError(\"Property '<unknown>.text' can not be set.\",), <traceback object at 0x0000009E52D37E88>)\n"
     ]
    }
   ],
   "source": [
    "import_file = 'get_ddlti_import.xlsx'\n",
    "main(import_file, sheet_name='ND') #ND или Regress"
   ]
  },
  {
   "cell_type": "code",
   "execution_count": null,
   "metadata": {},
   "outputs": [],
   "source": []
  }
 ],
 "metadata": {
  "kernelspec": {
   "display_name": "Python 3",
   "language": "python",
   "name": "python3"
  },
  "language_info": {
   "codemirror_mode": {
    "name": "ipython",
    "version": 3
   },
   "file_extension": ".py",
   "mimetype": "text/x-python",
   "name": "python",
   "nbconvert_exporter": "python",
   "pygments_lexer": "ipython3",
   "version": "3.6.4"
  }
 },
 "nbformat": 4,
 "nbformat_minor": 4
}
