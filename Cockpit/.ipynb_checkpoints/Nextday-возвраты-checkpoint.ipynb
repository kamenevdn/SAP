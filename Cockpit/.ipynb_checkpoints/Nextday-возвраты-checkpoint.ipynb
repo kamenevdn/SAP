{
 "cells": [
  {
   "cell_type": "code",
   "execution_count": 40,
   "metadata": {},
   "outputs": [],
   "source": [
    "import sapscript as ss\n",
    "import pyperclip\n",
    "import numpy as np"
   ]
  },
  {
   "cell_type": "code",
   "execution_count": 113,
   "metadata": {},
   "outputs": [],
   "source": [
    "E_PLANT = '7030' #ссылочный завод\n",
    "E_STORAGE = '0023' #склад для агента RED\n",
    "AGENT_ID = 'RED'\n",
    "PARAMS = {'ERD':{'plant':'2059',\n",
    "                 'agent':'100001589',  #100001589 RED или 100004346 CSE\n",
    "                 'idoc_port': 'SAPERD'}, \n",
    "          'ERT':{'plant':'3024',\n",
    "                 'agent':'100001514', #100001514 RED или 100004238 CSE\n",
    "                 'idoc_port': 'SAPERT'}} \n",
    "ORDERS_CREATED_FILE = 'orders_created.txt' #берем отсюда номера ZIMG заказов, по которым планируем делать возвраты\n",
    "RETURN_EXT_NUM_FILE = 'return_ext_num.txt'\n",
    "\n",
    "class Returns:\n",
    "    def __init__(self, _system_id):\n",
    "        self.sys_id = _system_id\n",
    "        self.sap = ss.sap()\n",
    "        self.sap.check_system(self.sys_id)\n",
    "        self.ext_number = '' # Внешний номер возврата Агента\n",
    "        \n",
    "    def zim_reestr(self):\n",
    "        try:\n",
    "            self.sap.run('zim_reestr')\n",
    "            session = self.sap.session()\n",
    "            session.findById(\"wnd[0]/usr/ctxtP_WERKS\").text = E_PLANT\n",
    "            session.findById(\"wnd[0]/usr/ctxtS_LGORT-LOW\").text = E_STORAGE\n",
    "            session.findById(\"wnd[0]/usr/ctxtS_WRKOUT-LOW\").text = PARAMS[self.sys_id]['plant']\n",
    "            \n",
    "            with open(ORDERS_CREATED_FILE, 'r') as file:\n",
    "                orders_created = file.read().split('\\n')\n",
    "            if len(orders_created)==0:\n",
    "                raise ValueError('В файле не указаны ZIMG заказы.')\n",
    "            #Вставляем из буфера заказы\n",
    "            pyperclip.copy('\\r\\n'.join(orders_created))\n",
    "            session.findById(\"wnd[0]/usr/btn%_S_KDAUF_%_APP_%-VALU_PUSH\").press()\n",
    "            session.findById(\"wnd[1]/tbar[0]/btn[16]\").press()\n",
    "            session.findById(\"wnd[1]/tbar[0]/btn[24]\").press()\n",
    "            session.findById(\"wnd[1]/tbar[0]/btn[8]\").press()\n",
    "            \n",
    "            session.findById(\"wnd[0]\").sendVKey(8)\n",
    "            \n",
    "            # считываем E-запасы по указанным заказам\n",
    "            grid = session.findById(\"wnd[0]/usr/cntlGRID1/shellcont/shell\")\n",
    "            stocks = self.sap.read_alv(grid, cols = [\"MAT_KDAUF\", \"MATNR\", \"MENGE\"], tech_names=True)\n",
    "            stocks.drop(index=stocks[stocks['MAT_KDAUF']==''].index, inplace=True)\n",
    "            stocks = stocks.sort_values(by='MAT_KDAUF', ascending=False)\n",
    "            return stocks\n",
    "        except:\n",
    "            self.sap.error_print()\n",
    "        finally:\n",
    "            session = None\n",
    "    \n",
    "    def we19(self, _e_stock):\n",
    "        # Читаем текущий и записываем новый внешний номер возврата Агента из файла\n",
    "        with open(RETURN_EXT_NUM_FILE, 'r') as file:\n",
    "            ext_num = file.read().split('_')\n",
    "            self.ext_number = '_'.join(ext_num)\n",
    "            ext_num[2] = str(int(ext_num[2])+1)\n",
    "            ext_num_new = '_'.join(ext_num)\n",
    "        with open(RETURN_EXT_NUM_FILE, 'w') as file:\n",
    "            file.write(ext_num_new)\n",
    "            \n",
    "        try:\n",
    "            self.sap.run('we19')\n",
    "            session = self.sap.session()\n",
    "            session.findById(\"wnd[0]/usr/radMSED7START-SEL_IDOCTP\").select()\n",
    "            session.findById(\"wnd[0]/usr/ctxtMSED7START-IDOCTYP\").text = \"ZIMRETAG\"\n",
    "            session.findById(\"wnd[0]/usr/ctxtMSED7START-IDOCTYP\").setFocus()\n",
    "            session.findById(\"wnd[0]/usr/ctxtMSED7START-IDOCTYP\").caretPosition = 8\n",
    "            session.findById(\"wnd[0]/tbar[1]/btn[8]\").press()\n",
    "            session.findById(\"wnd[0]/usr/lbl[9,1]\").setFocus()\n",
    "            session.findById(\"wnd[0]/usr/lbl[9,1]\").caretPosition = 7\n",
    "            session.findById(\"wnd[0]\").sendVKey(2)\n",
    "            session.findById(\"wnd[1]/usr/ctxtG_CONTROL_RECORD-RCVPOR\").text = PARAMS[self.sys_id]['idoc_port']\n",
    "            session.findById(\"wnd[1]/usr/ctxtG_CONTROL_RECORD-RCVPRN\").text = PARAMS[self.sys_id]['agent']\n",
    "            session.findById(\"wnd[1]/usr/ctxtEDI_PRT-RCVPRT\").text = \"LI\"\n",
    "            session.findById(\"wnd[1]/usr/ctxtG_CONTROL_RECORD-SNDPOR\").text = PARAMS[self.sys_id]['idoc_port']\n",
    "            session.findById(\"wnd[1]/usr/ctxtG_CONTROL_RECORD-SNDPRN\").text = PARAMS[self.sys_id]['agent']\n",
    "            session.findById(\"wnd[1]/usr/ctxtEDI_PRT-SNDPRT\").text = \"LI\"\n",
    "            session.findById(\"wnd[1]/usr/ctxtEDI_MSGTYP-MSGTYP\").text = \"ZIMRETAG\"\n",
    "            session.findById(\"wnd[1]/usr/ctxtEDI_MSGTYP-MSGTYP\").setFocus()\n",
    "            session.findById(\"wnd[1]/usr/ctxtEDI_MSGTYP-MSGTYP\").caretPosition = 8\n",
    "            session.findById(\"wnd[1]/tbar[0]/btn[0]\").press()\n",
    "            session.findById(\"wnd[0]/usr/lbl[36,3]\").setFocus()\n",
    "            session.findById(\"wnd[0]/usr/lbl[36,3]\").caretPosition = 6\n",
    "            \n",
    "            session.findById(\"wnd[0]\").sendVKey(2)\n",
    "            session.findById(\"wnd[1]/usr/sub:SAPLSPO4:0300/txtSVALD-VALUE[0,21]\").text = AGENT_ID\n",
    "            session.findById(\"wnd[1]/usr/sub:SAPLSPO4:0300/txtSVALD-VALUE[1,21]\").text = \"20190930\"\n",
    "            session.findById(\"wnd[1]/usr/sub:SAPLSPO4:0300/txtSVALD-VALUE[2,21]\").text = self.ext_number\n",
    "            session.findById(\"wnd[1]/usr/sub:SAPLSPO4:0300/txtSVALD-VALUE[3,21]\").text = \"20190930\"\n",
    "            session.findById(\"wnd[1]/usr/sub:SAPLSPO4:0300/txtSVALD-VALUE[4,21]\").text = PARAMS[self.sys_id]['plant']\n",
    "            session.findById(\"wnd[1]/usr/sub:SAPLSPO4:0300/txtSVALD-VALUE[4,21]\").setFocus()\n",
    "            session.findById(\"wnd[1]/usr/sub:SAPLSPO4:0300/txtSVALD-VALUE[4,21]\").caretPosition = 4\n",
    "            session.findById(\"wnd[1]/tbar[0]/btn[0]\").press()\n",
    "            \n",
    "            # Копируем сегменты для позиций\n",
    "            for pos in range((len(_e_stock)-1)):\n",
    "                session.findById(\"wnd[0]/tbar[1]/btn[5]\").press()\n",
    "                session.findById(\"wnd[1]/usr/txt[5,15]\").text = \"ZIMRETAG_POSITION\"\n",
    "                session.findById(\"wnd[1]/usr/txt[5,15]\").setFocus()\n",
    "                session.findById(\"wnd[1]/usr/txt[5,15]\").caretPosition = 0\n",
    "                session.findById(\"wnd[1]/tbar[0]/btn[0]\").press()\n",
    "            for index in e_stock.index:\n",
    "                session.findById(\"wnd[0]/usr/lbl[36,\"+str(index+4)+\"]\").setFocus()\n",
    "                session.findById(\"wnd[0]/usr/lbl[36,\"+str(index+4)+\"]\").caretPosition = 0\n",
    "                session.findById(\"wnd[0]\").sendVKey(2)\n",
    "                session.findById(\"wnd[1]/usr/sub:SAPLSPO4:0300/txtSVALD-VALUE[0,21]\").text = e_stock.iloc[index]['MAT_KDAUF']\n",
    "                session.findById(\"wnd[1]/usr/sub:SAPLSPO4:0300/txtSVALD-VALUE[1,21]\").text = e_stock.iloc[index]['MATNR']\n",
    "                session.findById(\"wnd[1]/usr/sub:SAPLSPO4:0300/txtSVALD-VALUE[2,21]\").text = e_stock.iloc[index]['MENGE']\n",
    "                session.findById(\"wnd[1]/usr/sub:SAPLSPO4:0300/txtSVALD-VALUE[2,21]\").setFocus()\n",
    "                session.findById(\"wnd[1]/usr/sub:SAPLSPO4:0300/txtSVALD-VALUE[2,21]\").caretPosition = 1\n",
    "                session.findById(\"wnd[1]/tbar[0]/btn[0]\").press()\n",
    "            session.findById(\"wnd[0]/tbar[1]/btn[8]\").press()\n",
    "            session.findById(\"wnd[1]/tbar[0]/btn[0]\").press()\n",
    "            message = session.findById(\"/app/con[0]/ses[0]/wnd[2]/usr/txtMESSTXT1\").text\n",
    "            session.findById(\"wnd[2]/tbar[0]/btn[0]\").press()\n",
    "            print('WE19: Внешний номер возврата Агента -', self.ext_number)\n",
    "            print('WE19:', message)\n",
    "        except:\n",
    "            self.sap.error_print()\n",
    "        finally:\n",
    "            session = None"
   ]
  },
  {
   "cell_type": "code",
   "execution_count": 112,
   "metadata": {},
   "outputs": [
    {
     "name": "stdout",
     "output_type": "stream",
     "text": [
      "WE19: Внешний номер возврата Агента: EXT_NUM_10004\n",
      "WE19: Номер IDOC 0000000001392044 передан в приложение.\n",
      "EXT_NUM_10004\n"
     ]
    }
   ],
   "source": [
    "ret = Returns('ERD')\n",
    "# Считываем запасы агента по ранее созданным и отгруженным заказам\n",
    "e_stock = ret.zim_reestr()\n",
    "\n",
    "# Создаем IDOC вида ZIMRETAG\n",
    "ret.we19(e_stock)"
   ]
  },
  {
   "cell_type": "code",
   "execution_count": 97,
   "metadata": {},
   "outputs": [
    {
     "name": "stdout",
     "output_type": "stream",
     "text": [
      "EXT_NUM_10004\n"
     ]
    }
   ],
   "source": []
  },
  {
   "cell_type": "code",
   "execution_count": 98,
   "metadata": {},
   "outputs": [
    {
     "data": {
      "text/plain": [
       "Int64Index([0, 1, 2, 3], dtype='int64')"
      ]
     },
     "execution_count": 98,
     "metadata": {},
     "output_type": "execute_result"
    }
   ],
   "source": [
    "e_stock.index"
   ]
  },
  {
   "cell_type": "code",
   "execution_count": 74,
   "metadata": {},
   "outputs": [
    {
     "data": {
      "text/plain": [
       "MAT_KDAUF    45961812\n",
       "MATNR              16\n",
       "MENGE               1\n",
       "Name: 0, dtype: object"
      ]
     },
     "execution_count": 74,
     "metadata": {},
     "output_type": "execute_result"
    }
   ],
   "source": [
    "e_stock.iloc[0]"
   ]
  },
  {
   "cell_type": "code",
   "execution_count": null,
   "metadata": {},
   "outputs": [],
   "source": []
  }
 ],
 "metadata": {
  "kernelspec": {
   "display_name": "Python 3",
   "language": "python",
   "name": "python3"
  },
  "language_info": {
   "codemirror_mode": {
    "name": "ipython",
    "version": 3
   },
   "file_extension": ".py",
   "mimetype": "text/x-python",
   "name": "python",
   "nbconvert_exporter": "python",
   "pygments_lexer": "ipython3",
   "version": "3.6.4"
  }
 },
 "nbformat": 4,
 "nbformat_minor": 4
}
