{
 "cells": [
  {
   "cell_type": "code",
   "execution_count": 1,
   "metadata": {},
   "outputs": [],
   "source": [
    "import sapscript as ss\n",
    "from IPython.display import display"
   ]
  },
  {
   "cell_type": "code",
   "execution_count": 2,
   "metadata": {},
   "outputs": [],
   "source": [
    "sap = ss.sap()"
   ]
  },
  {
   "cell_type": "code",
   "execution_count": 18,
   "metadata": {},
   "outputs": [
    {
     "name": "stdout",
     "output_type": "stream",
     "text": [
      "Процент комплектации = 0.00\n"
     ]
    }
   ],
   "source": [
    "try:\n",
    "    sap.check_system('ERT')\n",
    "    session = sap.session()\n",
    "    \n",
    "    sap.run('zimk')\n",
    "    session.findById(\"wnd[0]/usr/ctxtS_WRK-LOW\").text = \"2010\"\n",
    "    session.findById(\"wnd[0]/tbar[1]/btn[8]\").press()\n",
    "    \n",
    "    cols = ['VBELN', 'ADDTI', 'INITS_GDS', 'NETWR', 'DDLTI']\n",
    "    cols_name = ['Заказ', 'ВремяДобавл', 'Заказано', 'Скомплектовано', 'СобратьК']\n",
    "    grid = session.findById(\"wnd[0]/usr/cntlALV_0100/shellcont/shellcont/shell/shellcont[0]/shell\")\n",
    "    table = sap.read_alv(grid, cols, cols_name)\n",
    "    table.drop(index = table[table['Заказ']==''].index, inplace=True)\n",
    "    \n",
    "    table['Заказано'] = table['Заказано'].apply(sap.replace_minus_float)\n",
    "    table['Скомплектовано'] = table['Скомплектовано'].apply(sap.replace_minus_float)\n",
    "    \n",
    "    if table['Заказано'].sum() != 0:\n",
    "        percent_complete = table['Скомплектовано'].sum()/table['Заказано'].sum()*100\n",
    "    else:\n",
    "        percent_complete = 100\n",
    "    print('Процент комплектации = {:.2f}'.format(percent_complete))\n",
    "    \n",
    "except:\n",
    "    sap.error_print()\n",
    "finally:\n",
    "    session = None"
   ]
  },
  {
   "cell_type": "code",
   "execution_count": null,
   "metadata": {},
   "outputs": [],
   "source": []
  }
 ],
 "metadata": {
  "kernelspec": {
   "display_name": "Python 3",
   "language": "python",
   "name": "python3"
  },
  "language_info": {
   "codemirror_mode": {
    "name": "ipython",
    "version": 3
   },
   "file_extension": ".py",
   "mimetype": "text/x-python",
   "name": "python",
   "nbconvert_exporter": "python",
   "pygments_lexer": "ipython3",
   "version": "3.6.4"
  }
 },
 "nbformat": 4,
 "nbformat_minor": 4
}
